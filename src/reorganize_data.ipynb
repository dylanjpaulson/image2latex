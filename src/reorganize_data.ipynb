{
 "cells": [
  {
   "cell_type": "code",
   "execution_count": 3,
   "metadata": {},
   "outputs": [
    {
     "name": "stdout",
     "output_type": "stream",
     "text": [
      "Total files: 103536\n",
      "First 5 files: ['100009e256.png', '10007a9101.png', '1000a29807.png', '1000f2a2d2.png', '10011a6bf8.png']\n",
      "Sorted files: ['100009e256.png', '10007a9101.png', '1000a29807.png', '1000f2a2d2.png', '10011a6bf8.png']\n"
     ]
    }
   ],
   "source": [
    "# Create an alphabetically sorted list of all the files in the directory\n",
    "\n",
    "import os\n",
    "\n",
    "# Get the list of all files and directories\n",
    "files = os.listdir('bin_formula_images')\n",
    "\n",
    "# Print the number of files\n",
    "print('Total files:', len(files))\n",
    "\n",
    "# Print the first 5 filenames\n",
    "print('First 5 files:', files[:5])\n",
    "\n",
    "# Sort the files\n",
    "files.sort()\n",
    "\n",
    "# Print the first 5 filenames\n",
    "print('Sorted files:', files[:5])"
   ]
  },
  {
   "cell_type": "code",
   "execution_count": 9,
   "metadata": {},
   "outputs": [
    {
     "name": "stdout",
     "output_type": "stream",
     "text": [
      "Number of formulas: 103558\n",
      "Number of im2formula mappings: 9320\n"
     ]
    }
   ],
   "source": [
    "# Load the formula indices from the .lst file\n",
    "with open('data/im2latex_formulas_norm.lst', 'r', newline='\\n') as f:\n",
    "    formulas = []\n",
    "    for formula in f.readlines():\n",
    "        formulas.append(formula.strip())\n",
    "print('Number of formulas: {}'.format((len(formulas))-1))\n",
    "if len(formulas)-1 != 103558:\n",
    "    print('\\nError: Number of formulas does not match the number of formulas in the .lst file\\n')\n",
    "\n",
    "# Load the image-formula mapping from the .lst file\n",
    "im2formula = {}\n",
    "with open('data/im2latex_validate.lst', 'r') as f:\n",
    "    for line in f:\n",
    "        formula_idx, image_name, _ = line.strip().split()\n",
    "        im2formula[image_name + '.png'] = formulas[int(formula_idx)]\n",
    "print('Number of im2formula mappings: {}'.format(len(im2formula)))\n",
    "\n"
   ]
  },
  {
   "cell_type": "code",
   "execution_count": 10,
   "metadata": {},
   "outputs": [
    {
     "name": "stdout",
     "output_type": "stream",
     "text": [
      "Label: \\int_{-\\epsilon}^\\infty dl\\: {\\rm e}^{-l\\zeta} \\int_{-\\epsilon}^\\infty dl' {\\rm e}^{-l'\\zeta} ll'{l'-l \\over l+l'} \\{3\\,\\delta''(l) - {3 \\over 4}t\\,\\delta(l) \\} =0. \\label{eq21}\n"
     ]
    },
    {
     "data": {
      "image/png": "[encoded data removed]",
      "text/plain": [
       "<PIL.Image.Image image mode=L size=1254x550>"
      ]
     },
     "metadata": {},
     "output_type": "display_data"
    }
   ],
   "source": [
    "import cv2\n",
    "\n",
    "from PIL import Image\n",
    "from IPython.display import display\n",
    "\n",
    "labels = list(im2formula.keys())\n",
    "\n",
    "index = 0\n",
    "\n",
    "image_name = labels[index]\n",
    "\n",
    "# Load the image from a file path\n",
    "img_path = os.path.join('bin_formula_images', image_name)\n",
    "img = cv2.imread(img_path, cv2.IMREAD_GRAYSCALE)\n",
    "\n",
    "# Convert the image to a PIL image\n",
    "img = Image.fromarray(img)\n",
    "\n",
    "label = im2formula[image_name]\n",
    "\n",
    "\n",
    "# Print the label\n",
    "print('Label: {}'.format(label))\n",
    "\n",
    "# Show the image in Jupyter notebook\n",
    "display(img)\n"
   ]
  },
  {
   "cell_type": "code",
   "execution_count": 11,
   "metadata": {},
   "outputs": [
    {
     "name": "stdout",
     "output_type": "stream",
     "text": [
      "Saved 0 images\n",
      "Saved 1000 images\n",
      "Saved 2000 images\n",
      "Saved 3000 images\n",
      "Saved 4000 images\n",
      "Saved 5000 images\n",
      "Saved 6000 images\n",
      "Saved 7000 images\n",
      "Saved 8000 images\n",
      "Saved 9000 images\n"
     ]
    }
   ],
   "source": [
    "import cv2\n",
    "\n",
    "from PIL import Image\n",
    "from IPython.display import display\n",
    "\n",
    "out_img_dir = 'processed_data/validate_images/'\n",
    "out_formula_file = 'processed_data/validate_formulas.txt'\n",
    "\n",
    "labels = list(im2formula.keys())\n",
    "\n",
    "formula_file = open(out_formula_file, 'w')\n",
    "\n",
    "for index in range(len(labels)):\n",
    "\n",
    "    image_name = labels[index]\n",
    "\n",
    "    # Load the image from a file path\n",
    "    img_path = os.path.join('bin_formula_images', image_name)\n",
    "    img = cv2.imread(img_path, cv2.IMREAD_GRAYSCALE)\n",
    "\n",
    "    # Convert the image to a PIL image\n",
    "    img = Image.fromarray(img)\n",
    "\n",
    "    label = im2formula[image_name]\n",
    "\n",
    "    # Save the image\n",
    "    img.save(out_img_dir + image_name)\n",
    "\n",
    "    # Save the formula\n",
    "    string = image_name + ' ' + label + '\\n'\n",
    "\n",
    "    formula_file.write(string)\n",
    "\n",
    "    if index % 1000 == 0:\n",
    "        print('Saved {} images'.format(index))\n",
    "\n",
    "formula_file.close()\n"
   ]
  },
  {
   "cell_type": "code",
   "execution_count": 68,
   "metadata": {},
   "outputs": [
    {
     "name": "stdout",
     "output_type": "stream",
     "text": [
      "Number of files in processed_data/train_images: 83870\n",
      "Number of lines in processed_data/train_formulas.txt: 83870\n",
      "Number of files in processed_data/test_images: 10355\n",
      "Number of lines in processed_data/test_formulas.txt: 10355\n",
      "Number of files in processed_data/validate_images: 9320\n",
      "Number of lines in processed_data/validate_formulas.txt: 9320\n",
      "Number of files in processed_data/all_images: 103536\n",
      "Number of lines in processed_data/all_formulas.txt: 103536\n",
      "Sum of the number of files: 103545\n"
     ]
    }
   ],
   "source": [
    "# Print the number of files in processed_data/train_images\n",
    "print('Number of files in processed_data/train_images:', len(os.listdir('processed_data/train_images')))\n",
    "# Print the number of lines in processed_data/train_formulas.txt\n",
    "print('Number of lines in processed_data/train_formulas.txt:', len(open('processed_data/train_formulas.txt').readlines()))\n",
    "\n",
    "# Print the number of files in processed_data/test_images\n",
    "print('Number of files in processed_data/test_images:', len(os.listdir('processed_data/test_images')))\n",
    "# Print the number of lines in processed_data/test_formulas.txt\n",
    "print('Number of lines in processed_data/test_formulas.txt:', len(open('processed_data/test_formulas.txt').readlines()))\n",
    "\n",
    "# Print the number of files in processed_data/validate_images\n",
    "print('Number of files in processed_data/validate_images:', len(os.listdir('processed_data/validate_images')))\n",
    "# Print the number of lines in processed_data/validate_formulas.txt\n",
    "print('Number of lines in processed_data/validate_formulas.txt:', len(open('processed_data/validate_formulas.txt').readlines()))\n",
    "\n",
    "# Print the number of files in processed_data/all_images\n",
    "print('Number of files in processed_data/all_images:', len(os.listdir('processed_data/all_images')))\n",
    "# Print the number of lines in processed_data/formulas.txt\n",
    "print('Number of lines in processed_data/all_formulas.txt:', len(open('processed_data/all_formulas.txt').readlines()))\n",
    "\n",
    "\n",
    "# Print the sum of the number of files in processed_data/train_images, processed_data/test_images, and processed_data/validate_images\n",
    "print('Sum of the number of files:', len(os.listdir('processed_data/train_images')) + len(os.listdir('processed_data/test_images')) + len(os.listdir('processed_data/validate_images')))"
   ]
  },
  {
   "cell_type": "code",
   "execution_count": 65,
   "metadata": {},
   "outputs": [
    {
     "name": "stdout",
     "output_type": "stream",
     "text": [
      "103545\n",
      "103536\n"
     ]
    }
   ],
   "source": [
    "\n",
    "# ['467a4dc80c.png', '10220a1920.png', '5f328ba860.png', '8237a4c556.png', '7c99ded238.png', '4ff536a32d.png', '662f0b83e3.png', '436abf1fe0.png', '50cd4d5615.png']\n"
   ]
  },
  {
   "cell_type": "code",
   "execution_count": 70,
   "metadata": {},
   "outputs": [],
   "source": [
    "import cv2\n",
    "import re\n",
    "from PIL import Image\n",
    "from torch.utils.data import Dataset\n",
    "import os\n",
    "\n",
    "class DataLoader(Dataset):\n",
    "    def __init__(self, image_directory, mapping_file, vocab_list, transform=None, tokens=50):\n",
    "        self.image_directory = image_directory\n",
    "        self.transform = transform\n",
    "        self.vocab_list = vocab_list\n",
    "        self.tokens = tokens\n",
    "\n",
    "        # Save the paths of the images\n",
    "        self.image_paths = []\n",
    "        for image_name in os.listdir(image_directory):\n",
    "            self.image_paths.append(os.path.join(image_directory, image_name))\n",
    "\n",
    "        # Load the image-formula mapping from the .lst file\n",
    "        self.im2formula = {}\n",
    "        with open(mapping_file, 'r') as f:\n",
    "            for line in f:\n",
    "                # Get the first item of the line\n",
    "                image_name = line.strip().split()[0]\n",
    "                # Get everything except the first item of the line, and join them together\n",
    "                formula = ' '.join(line.strip().split()[1:])\n",
    "\n",
    "        print('Number of images: {}'.format(len(self.image_paths)))\n",
    "        print('Number of im2formula mappings: {}'.format(len(self.im2formula)))\n",
    "\n",
    "    # Tokenize the formula\n",
    "    def split_string_by_tokens(string, vocab):\n",
    "        # Sort the vocabulary by length in descending order\n",
    "        vocab = sorted(vocab, key=len, reverse=True)\n",
    "\n",
    "        # Generate a regular expression pattern that matches any of the vocabulary words\n",
    "        pattern = \"|\".join(re.escape(word) for word in vocab)\n",
    "        \n",
    "        # Use the pattern to split the string into tokens\n",
    "        tokens = re.findall(pattern, string)\n",
    "        \n",
    "\n",
    "        # Add unknown tokens for any characters not matched by the pattern\n",
    "        str_index = 0\n",
    "        updated_tokens = []\n",
    "        i = 0\n",
    "        while i < (len(tokens)):\n",
    "            cur_token = tokens[i]\n",
    "            if string[str_index:str_index+len(cur_token)] == cur_token:\n",
    "                updated_tokens.append(cur_token)\n",
    "                str_index += len(cur_token)\n",
    "                i += 1\n",
    "            else:\n",
    "                updated_tokens.append(f\"<unk>\")\n",
    "                str_index += 1\n",
    "\n",
    "        if str_index != len(string):\n",
    "            for i in range(len(string) - str_index):\n",
    "                updated_tokens.append(f\"<unk>\") \n",
    "\n",
    "        return updated_tokens\n",
    "\n",
    "    def __len__(self):\n",
    "        return len(self.im2formula)\n",
    "    \n",
    "    def __getitem__(self, index):\n",
    "        image_names = list(self.im2formula.keys())\n",
    "        image_name = image_names[index]\n",
    "\n",
    "        # Load the image from a file path\n",
    "        img = cv2.imread(self.image_paths[index], cv2.IMREAD_GRAYSCALE)\n",
    "\n",
    "        # Convert the image to a PIL image\n",
    "        img = Image.fromarray(img)\n",
    "\n",
    "        formula = self.im2formula[image_name]\n",
    "\n",
    "        if self.transform:\n",
    "            img = self.transform(img)\n",
    "        \n",
    "        # Tokenize the formula\n",
    "        tokenized_formula = DataLoader.split_string_by_tokens(formula, self.vocab_list)\n",
    "\n",
    "        if len(tokenized_formula) > self.tokens:\n",
    "            tokenized_formula = tokenized_formula[:self.tokens]\n",
    "        else:\n",
    "            for i in range(self.tokens - len(tokenized_formula)):\n",
    "                tokenized_formula.append('<pad>')\n",
    "        \n",
    "        # Insert <sos> token\n",
    "        tokenized_formula.insert(0, '<sos>')\n",
    "        # Append <eos> token\n",
    "        tokenized_formula.append('<eos>')\n",
    "\n",
    "        return img, tokenized_formula, image_name\n"
   ]
  },
  {
   "cell_type": "code",
   "execution_count": null,
   "metadata": {},
   "outputs": [],
   "source": [
    "# Open vocab.txt and load each line into a list, remove new line character\n",
    "with open('data/vocab.txt', 'r') as f:\n",
    "    vocab_list = [line.strip() for line in f.readlines()]\n",
    "latex_vocab = Vocabulary(vocab_list)\n",
    "print('Vocab size: {}'.format(len(vocab_list)))"
   ]
  },
  {
   "cell_type": "code",
   "execution_count": null,
   "metadata": {},
   "outputs": [],
   "source": [
    "data = DataLoader('processed_data/all_images', 'processed_data/all_formulas.txt', latex_vocab.vocab_list, transform)\n",
    "data_loader = torch.utils.data.DataLoader(test_data, batch_size=batch_size, shuffle=True, num_workers=8)"
   ]
  }
 ],
 "metadata": {
  "kernelspec": {
   "display_name": "Python 3",
   "language": "python",
   "name": "python3"
  },
  "language_info": {
   "codemirror_mode": {
    "name": "ipython",
    "version": 3
   },
   "file_extension": ".py",
   "mimetype": "text/x-python",
   "name": "python",
   "nbconvert_exporter": "python",
   "pygments_lexer": "ipython3",
   "version": "3.9.6"
  },
  "orig_nbformat": 4
 },
 "nbformat": 4,
 "nbformat_minor": 2
}
